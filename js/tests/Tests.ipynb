{
 "cells": [
  {
   "cell_type": "code",
   "execution_count": 1,
   "metadata": {
    "scrolled": false
   },
   "outputs": [],
   "source": [
    "import { WalletDecorator } from './WalletDecorator'\n",
    "await WalletDecorator.waitReady()\n",
    "import { tokens, tokensInfo } from './WalletDecorator'\n",
    "const ethers = require('ethers')\n",
    "import * as utils from './utils'"
   ]
  },
  {
   "cell_type": "code",
   "execution_count": 2,
   "metadata": {
    "scrolled": true
   },
   "outputs": [
    {
     "name": "stdout",
     "output_type": "stream",
     "text": [
      "[ \u001b[32m'0xef81a0bb8819f94eef15992f31555a282d7009d1'\u001b[39m, \u001b[32m'ETH'\u001b[39m ]\n"
     ]
    }
   ],
   "source": [
    "tokens"
   ]
  },
  {
   "cell_type": "markdown",
   "metadata": {},
   "source": [
    "# a breakthrough in manual testing using repl"
   ]
  },
  {
   "cell_type": "markdown",
   "metadata": {},
   "source": [
    "# a lot of wallets send deposits"
   ]
  },
  {
   "cell_type": "code",
   "execution_count": 3,
   "metadata": {},
   "outputs": [],
   "source": [
    "const numWallets = 16;"
   ]
  },
  {
   "cell_type": "code",
   "execution_count": 4,
   "metadata": {
    "scrolled": true
   },
   "outputs": [
    {
     "name": "stdout",
     "output_type": "stream",
     "text": [
      "wallet sync:2708a49abc4d6464044abfb4b9bce3af69a2b55d syncNonce 0, ethNonce 232\n",
      "wallet sync:6faa6414ebc8955a3abda739bb813794373ef0d8 syncNonce 0, ethNonce 17\n",
      "wallet sync:b0b86e2187b6c6b75648c4a9e295f3da1b0426ab syncNonce 0, ethNonce 17\n",
      "wallet sync:a8bba0ffab71a1fb9e7747e346bf19fa48f00a76 syncNonce 0, ethNonce 17\n",
      "wallet sync:c59153f81862f7421aa11ca5726bac5c4d7b70d4 syncNonce 0, ethNonce 17\n",
      "wallet sync:a75b6332b192c08652d458f80aa7e83b4fb40a7a syncNonce 0, ethNonce 17\n",
      "wallet sync:f0e19f3dca0b4b10028c317d76a082a324264614 syncNonce 0, ethNonce 17\n",
      "wallet sync:8acaec1019ae27a7edc6bed313e61d5b4c2b1853 syncNonce 0, ethNonce 17\n",
      "wallet sync:51f0966bb81d77d0a67a9ece43f7b6c1839dc759 syncNonce 0, ethNonce 17\n",
      "wallet sync:246c8892f369d4b8ce3cbccbfe983c88fb7f814d syncNonce 0, ethNonce 17\n",
      "wallet sync:ca51243fbe3423b34ef5bff9d54554ac58f323cb syncNonce 0, ethNonce 17\n",
      "wallet sync:e91c6b328fe227408ea142918a845caedef197a6 syncNonce 0, ethNonce 17\n",
      "wallet sync:bd67e2867789e7a578d97679ba8152d1d64872fc syncNonce 0, ethNonce 17\n",
      "wallet sync:fe8395fc13bb343fc93d408d324acfcf67996f9b syncNonce 0, ethNonce 17\n",
      "wallet sync:6f0c69327aa9fc4aeea32cb0ca97d71bb8a211db syncNonce 0, ethNonce 17\n",
      "wallet sync:0ecd4affc68f90c1c5612afecb76bbe694bf12f3 syncNonce 0, ethNonce 17\n"
     ]
    }
   ],
   "source": [
    "const wallets = await Promise.all(utils.rangearr(numWallets).map(WalletDecorator.fromId));"
   ]
  },
  {
   "cell_type": "code",
   "execution_count": 5,
   "metadata": {
    "scrolled": false
   },
   "outputs": [
    {
     "name": "stdout",
     "output_type": "stream",
     "text": [
      "Balance of 0x36615Cf349d7F6344891B1e7CA7C72883F5dc049 ( sync:2708a49abc4d6464044abfb4b9bce3af69a2b55d ):\n",
      "┌────────────────────────────────────────────┬────────────────┬───────┬──────────┐\n",
      "│                  (index)                   │      eth       │ sync  │ withdraw │\n",
      "├────────────────────────────────────────────┼────────────────┼───────┼──────────┤\n",
      "│ 0xef81a0bb8819f94eef15992f31555a282d7009d1 │ \u001b[32m'3000000000.0'\u001b[39m │ \u001b[32m'0.0'\u001b[39m │  \u001b[32m'0.0'\u001b[39m   │\n",
      "│                    ETH                     │  \u001b[32m'38.3949329'\u001b[39m  │ \u001b[32m'0.0'\u001b[39m │  \u001b[32m'0.0'\u001b[39m   │\n",
      "└────────────────────────────────────────────┴────────────────┴───────┴──────────┘\n"
     ]
    }
   ],
   "source": [
    "await wallets[0].prettyPrintBalances(tokens);\n",
    "const amount = ethers.utils.parseEther('0.01');"
   ]
  },
  {
   "cell_type": "code",
   "execution_count": 6,
   "metadata": {},
   "outputs": [],
   "source": [
    "const txs = await wallets[0].mainchainSendToMany(wallets.slice(1), tokens, [amount.mul(2)]);"
   ]
  },
  {
   "cell_type": "code",
   "execution_count": 7,
   "metadata": {},
   "outputs": [],
   "source": [
    "function depositMany(wallets, tokens, amounts) {\n",
    "    const promises = [];\n",
    "    for (const [wallet, token, amount] of utils.product(wallets, tokens, amounts)) {\n",
    "        promises.push(wallet.deposit(amount, [token]));\n",
    "    }\n",
    "    return promises;\n",
    "}"
   ]
  },
  {
   "cell_type": "code",
   "execution_count": 8,
   "metadata": {},
   "outputs": [],
   "source": [
    "const promises = depositMany(wallets.slice(1), tokens.reverse(), [amount]);"
   ]
  },
  {
   "cell_type": "code",
   "execution_count": 9,
   "metadata": {
    "scrolled": true
   },
   "outputs": [],
   "source": [
    "const results = utils.flat(await Promise.all(promises));\n",
    "const resultsOk = results.filter((tx: any) => !tx.error);"
   ]
  },
  {
   "cell_type": "code",
   "execution_count": 10,
   "metadata": {
    "scrolled": false
   },
   "outputs": [
    {
     "name": "stdout",
     "output_type": "stream",
     "text": [
      "results.length 30\n",
      "resultsOk.length 30\n"
     ]
    }
   ],
   "source": [
    "console.log('results.length', results.length, /* results.slice(-2) */);\n",
    "console.log('resultsOk.length', resultsOk.length, /* resultsOk.slice(-2) */);"
   ]
  },
  {
   "cell_type": "code",
   "execution_count": 11,
   "metadata": {
    "scrolled": false
   },
   "outputs": [
    {
     "name": "stdout",
     "output_type": "stream",
     "text": [
      "[ { payload:\n",
      "     { depositFrom: \u001b[36m[Wallet]\u001b[39m,\n",
      "       depositTo: \u001b[36m[Wallet]\u001b[39m,\n",
      "       token: \u001b[32m'0xef81a0bb8819f94eef15992f31555a282d7009d1'\u001b[39m,\n",
      "       amount: \u001b[36m[BigNumber]\u001b[39m,\n",
      "       overrideOptions: \u001b[36m[Object]\u001b[39m },\n",
      "    tx:\n",
      "     ETHOperation {\n",
      "       ethTx: \u001b[36m[Object]\u001b[39m,\n",
      "       zkSyncProvider: \u001b[36m[Provider]\u001b[39m,\n",
      "       state: \u001b[32m'Committed'\u001b[39m,\n",
      "       priorityOpId: \u001b[36m[BigNumber]\u001b[39m },\n",
      "    receipt: { block: \u001b[36m[Object]\u001b[39m, executed: \u001b[33mtrue\u001b[39m },\n",
      "    error: \u001b[1mnull\u001b[22m } ]\n"
     ]
    }
   ],
   "source": [
    "results.slice(5, 6)"
   ]
  },
  {
   "cell_type": "code",
   "execution_count": 12,
   "metadata": {
    "scrolled": true
   },
   "outputs": [
    {
     "name": "stdout",
     "output_type": "stream",
     "text": [
      "tx null\n"
     ]
    }
   ],
   "source": [
    "await WalletDecorator.revertReason('0x32b4a95eb0cf094ea0c3557f3a5c5b2dfbafb1b5a7f76c699a7776ddd1db7e84')"
   ]
  },
  {
   "cell_type": "code",
   "execution_count": 13,
   "metadata": {
    "scrolled": true
   },
   "outputs": [
    {
     "name": "stdout",
     "output_type": "stream",
     "text": [
      "Balance of 0x36615Cf349d7F6344891B1e7CA7C72883F5dc049 ( sync:2708a49abc4d6464044abfb4b9bce3af69a2b55d ):\n",
      "┌────────────────────────────────────────────┬────────────────┬───────┬──────────┐\n",
      "│                  (index)                   │      eth       │ sync  │ withdraw │\n",
      "├────────────────────────────────────────────┼────────────────┼───────┼──────────┤\n",
      "│                    ETH                     │ \u001b[32m'38.078993873'\u001b[39m │ \u001b[32m'0.0'\u001b[39m │  \u001b[32m'0.0'\u001b[39m   │\n",
      "│ 0xef81a0bb8819f94eef15992f31555a282d7009d1 │ \u001b[32m'2999999999.7'\u001b[39m │ \u001b[32m'0.0'\u001b[39m │  \u001b[32m'0.0'\u001b[39m   │\n",
      "└────────────────────────────────────────────┴────────────────┴───────┴──────────┘\n"
     ]
    }
   ],
   "source": [
    "await wallets[0].prettyPrintBalances(tokens);"
   ]
  },
  {
   "cell_type": "markdown",
   "metadata": {},
   "source": [
    "#### call this one before it says `pgs11`:"
   ]
  },
  {
   "cell_type": "code",
   "execution_count": 23,
   "metadata": {
    "scrolled": true
   },
   "outputs": [
    {
     "name": "stdout",
     "output_type": "stream",
     "text": [
      "pgs11\n"
     ]
    }
   ],
   "source": [
    "await wallets[0].cancelOutstandingDepositsForExodusMode(10, { gasLimit: 1000000 })\n",
    "    .catch(x => WalletDecorator.revertReason(x.transaction.hash));"
   ]
  },
  {
   "cell_type": "code",
   "execution_count": 24,
   "metadata": {
    "scrolled": true
   },
   "outputs": [
    {
     "name": "stdout",
     "output_type": "stream",
     "text": [
      "Balance of 0xa61464658AfeAf65CccaaFD3a512b69A83B77618 ( sync:6faa6414ebc8955a3abda739bb813794373ef0d8 ):\n",
      "┌────────────────────────────────────────────┬───────────────┬────────┬──────────┐\n",
      "│                  (index)                   │      eth      │  sync  │ withdraw │\n",
      "├────────────────────────────────────────────┼───────────────┼────────┼──────────┤\n",
      "│                    ETH                     │ \u001b[32m'0.020592834'\u001b[39m │ \u001b[32m'0.01'\u001b[39m │  \u001b[32m'0.01'\u001b[39m  │\n",
      "│ 0xef81a0bb8819f94eef15992f31555a282d7009d1 │    \u001b[32m'0.01'\u001b[39m     │ \u001b[32m'0.01'\u001b[39m │  \u001b[32m'0.01'\u001b[39m  │\n",
      "└────────────────────────────────────────────┴───────────────┴────────┴──────────┘\n"
     ]
    }
   ],
   "source": [
    "await wallets[1].prettyPrintBalances(tokens);"
   ]
  },
  {
   "cell_type": "code",
   "execution_count": 25,
   "metadata": {},
   "outputs": [],
   "source": [
    "function calculateDepositAmounts(results) {\n",
    "    // compute total deposit amount for each token\n",
    "    const sentAmounts = {};\n",
    "    for (const { payload: { depositTo, token, amount } } of results) {\n",
    "        const address = depositTo.address();\n",
    "        sentAmounts[address] = (sentAmounts[address] || {});\n",
    "        sentAmounts[address][token] \n",
    "            = (sentAmounts[address][token] || ethers.utils.bigNumberify(0));\n",
    "\n",
    "        sentAmounts[address][token] = sentAmounts[address][token].add(amount);\n",
    "    }\n",
    "    for (const address of Object.keys(sentAmounts)) {\n",
    "        for (const token of Object.keys(sentAmounts[address])) {\n",
    "            sentAmounts[address][token] = ethers.utils.formatEther(sentAmounts[address][token]);\n",
    "        }\n",
    "    }\n",
    "    return sentAmounts;\n",
    "}\n"
   ]
  },
  {
   "cell_type": "code",
   "execution_count": 26,
   "metadata": {
    "scrolled": true
   },
   "outputs": [],
   "source": [
    "const sentAmounts = calculateDepositAmounts(resultsOk);"
   ]
  },
  {
   "cell_type": "code",
   "execution_count": 27,
   "metadata": {},
   "outputs": [],
   "source": [
    "const addressToBalanceMap = Object.assign(\n",
    "    {}, ...await Promise.all(\n",
    "        wallets.map(\n",
    "            async w => ({ [w.syncWallet.address()]: await w.balances(tokens) })\n",
    "        )\n",
    "    )\n",
    ");"
   ]
  },
  {
   "cell_type": "markdown",
   "metadata": {},
   "source": [
    "#### if this doesn't print anything, the test passes:"
   ]
  },
  {
   "cell_type": "code",
   "execution_count": 28,
   "metadata": {},
   "outputs": [],
   "source": [
    "for (const address of Object.keys(sentAmounts)) {\n",
    "    for (const token of Object.keys(sentAmounts[address])) {\n",
    "        const real = await addressToBalanceMap[address][token]['withdraw'];\n",
    "        const want = sentAmounts[address][token];\n",
    "            if (real != want) {\n",
    "            console.log('fuckup:', address, token, real, want);\n",
    "        }\n",
    "    }\n",
    "}"
   ]
  },
  {
   "cell_type": "markdown",
   "metadata": {},
   "source": [
    "# strange buggy\n",
    "if the contract is deployed the first time (on fresh geth),  \n",
    "sending 30 deposits from 15 wallets doesn't work"
   ]
  },
  {
   "cell_type": "code",
   "execution_count": 6,
   "metadata": {},
   "outputs": [],
   "source": [
    "const cliProgress = require('cli-progress');"
   ]
  },
  {
   "cell_type": "code",
   "execution_count": 3,
   "metadata": {},
   "outputs": [],
   "source": [
    "const NUM_WALLETS    = 64;\n",
    "const DEPOSIT_AMOUNT = ethers.utils.parseEther('0.1');\n"
   ]
  },
  {
   "cell_type": "code",
   "execution_count": 4,
   "metadata": {
    "scrolled": false
   },
   "outputs": [
    {
     "name": "stdout",
     "output_type": "stream",
     "text": [
      "wallet sync:2708a49abc4d6464044abfb4b9bce3af69a2b55d syncNonce 0, ethNonce 0\n",
      "Balance of 0x36615Cf349d7F6344891B1e7CA7C72883F5dc049 ( sync:2708a49abc4d6464044abfb4b9bce3af69a2b55d ):\n",
      "┌─────────┬───────┬───────┬──────────┐\n",
      "│ (index) │  eth  │ sync  │ withdraw │\n",
      "├─────────┼───────┼───────┼──────────┤\n",
      "│   ETH   │ \u001b[32m'0.0'\u001b[39m │ \u001b[32m'0.0'\u001b[39m │  \u001b[32m'0.0'\u001b[39m   │\n",
      "└─────────┴───────┴───────┴──────────┘\n"
     ]
    }
   ],
   "source": [
    "await WalletDecorator.waitReady();\n",
    "\n",
    "WalletDecorator.waitExodus('print'); // it'll notify us when it's exodus mode, no need to await\n",
    "\n",
    "const wallet = await WalletDecorator.fromId(0);\n",
    "await wallet.prettyPrintBalances(tokens);"
   ]
  },
  {
   "cell_type": "code",
   "execution_count": 7,
   "metadata": {
    "scrolled": true
   },
   "outputs": [
    {
     "name": "stderr",
     "output_type": "stream",
     "text": [
      "\u001b[?25l\u001b[?7l\u001b[1G\u001b[1G\u001b[90m ████████████████████░░░░░░░░░░░░░░░░░░░░\u001b[39m 50% | ETA: 0s | 50/100\u001b[0K\n",
      "\u001b[1G\u001b[90m ░░░░░░░░░░░░░░░░░░░░░░░░░░░░░░░░░░░░░░░░\u001b[39m 0% | ETA: 0s | 0/100\u001b[0K\u001b[1A\u001b[1G\u001b[1G\u001b[90m ████████████████████████████████████████\u001b[39m 100% | ETA: 0s | 100/100\u001b[0K\n",
      "\u001b[1A\u001b[1G\n",
      "\u001b[1A\u001b[1G\n",
      "\u001b[1A\u001b[1G\n",
      "\u001b[1G\u001b[90m ██████████████░░░░░░░░░░░░░░░░░░░░░░░░░░\u001b[39m 36% | ETA: 1s | 36/100\u001b[0K\u001b[1A\u001b[1G\n",
      "\u001b[1G\u001b[90m ████████████████████░░░░░░░░░░░░░░░░░░░░\u001b[39m 50% | ETA: 1s | 50/100\u001b[0K\u001b[?25h\u001b[?7h\u001b[1A\u001b[1G\n",
      "\u001b[1G\u001b[90m ██████████████████████████████████████░░\u001b[39m 94% | ETA: 1s | 94/100\u001b[0K\n"
     ]
    }
   ],
   "source": [
    "const numDeposits = 100;\n",
    "const promises = [];\n",
    "\n",
    "// set up multibars\n",
    "const multibar = new cliProgress.MultiBar({\n",
    "    clearOnComplete: false,\n",
    "    hideCursor: true\n",
    "}, cliProgress.Presets.shades_grey);\n",
    "const sentProgressBar    = multibar.create(numDeposits, 0);\n",
    "const receiptProgressBar = multibar.create(numDeposits, 0);\n",
    "\n",
    "// send deposits\n",
    "for (const i of utils.range(numDeposits)) {\n",
    "    if (i % 50 === 0) {\n",
    "        if (await WalletDecorator.isExodus()) {\n",
    "            break;\n",
    "        }\n",
    "    }\n",
    "\n",
    "    const receiptUpdater = i => res => {\n",
    "        receiptProgressBar.update(i);\n",
    "        return res;\n",
    "    };\n",
    "\n",
    "    const amount = Math.random() < 0.5 ? DEPOSIT_AMOUNT.div(numDeposits) : ethers.utils.parseEther('1000');\n",
    "    const promise = wallet\n",
    "        .deposit(amount, tokens)\n",
    "        .then(receiptUpdater(i + 1));\n",
    "\n",
    "    promises.push(promise);\n",
    "    sentProgressBar.update(i + 1);\n",
    "}\n",
    "\n",
    "// get results\n",
    "const results = utils.flat(await Promise.all(promises));\n",
    "multibar.stop();"
   ]
  },
  {
   "cell_type": "code",
   "execution_count": 16,
   "metadata": {},
   "outputs": [
    {
     "name": "stdout",
     "output_type": "stream",
     "text": [
      "results: 100\n",
      "sentResults: 0\n",
      "sentResultsPayloadless: 0 []\n"
     ]
    }
   ],
   "source": [
    "console.log('results:', results.length/* , results.slice(-1) */);\n",
    "const sentResults = results.filter(tx => !tx.error);\n",
    "console.log('sentResults:', sentResults.length/* , sentResults.slice(-1) */);\n",
    "const sentResultsPayloadless = sentResults.filter(tx => !(tx && tx.payload && tx.payload.token));\n",
    "const sentResultsOk = sentResults.filter(tx => !tx.error);\n",
    "console.log('sentResultsPayloadless:', sentResultsPayloadless.length, sentResultsPayloadless.slice(-1));"
   ]
  },
  {
   "cell_type": "code",
   "execution_count": 20,
   "metadata": {},
   "outputs": [
    {
     "name": "stdout",
     "output_type": "stream",
     "text": [
      "[]\n"
     ]
    }
   ],
   "source": [
    "sentResultsOk.map(({ payload: { amount } }) => ethers.utils.formatEther(amount))"
   ]
  },
  {
   "cell_type": "code",
   "execution_count": null,
   "metadata": {},
   "outputs": [],
   "source": [
    "// compute total deposit amount for each token\n",
    "const sentAmounts = {};\n",
    "for (const { payload: { token, amount } } of sentResultsOk) {\n",
    "    sentAmounts[tokezn] = \n",
    "        (sentAmounts[token] || ethers.utils.bigNumberify(0)).add(amount);\n",
    "}\n",
    "for (const token of Object.keys(sentAmounts)) {\n",
    "    sentAmounts[token] = ethers.utils.formatEther(sentAmounts[token]);\n",
    "}\n",
    "console.log({sentAmounts});\n",
    "\n",
    "// cancel all deposits\n",
    "await WalletDecorator.waitExodus();\n",
    "await wallet.callCancelOutstandingDepositsForExodusModeNTimes(20);\n",
    "\n",
    "// check that all sent deposits can be withdrawn\n",
    "const withdrawBalances = await wallet.balancesToWithdraw(tokens);\n",
    "for (const token of Object.keys(sentAmounts)) {\n",
    "    const ok = sentAmounts[token] === withdrawBalances[token];\n",
    "    console.log(`For ${token}:`, ok ? 'All good 👌' : `${sentAmounts[token]} ≠ ${withdrawBalances[token]}`);\n",
    "    // assert(ok);\n",
    "}\n",
    "\n",
    "await wallet.prettyPrintBalances(tokens);\n",
    "console.log('🎓 the end. Press ctrl c');\n",
    "}"
   ]
  }
 ],
 "metadata": {
  "kernelspec": {
   "display_name": "TypeScript",
   "language": "typescript",
   "name": "tslab"
  },
  "language_info": {
   "codemirror_mode": {
    "mode": "typescript",
    "name": "javascript",
    "typescript": true
   },
   "file_extension": ".ts",
   "mimetype": "text/typescript",
   "name": "typescript",
   "version": "3.7.2"
  }
 },
 "nbformat": 4,
 "nbformat_minor": 2
}
